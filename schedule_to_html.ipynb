{
 "cells": [
  {
   "cell_type": "code",
   "execution_count": 1,
   "metadata": {},
   "outputs": [],
   "source": [
    "schedule = '''7:30 Hair arrives to set up\n",
    "7:45 Makeup arrives to set up and hair begins\n",
    "10 people each for hair and makeup\n",
    "8:00 Makeup begins\n",
    "11:00 Photographer arrives (no first look) & personal flowers are delivered to the hotel\n",
    "11:30 Videographer #1 arrives at Hotel (where Ellen will be), Second Photographer & Videographer #2 arrives at Ellen and Eric’s house (where Eric will be) \n",
    "11:45 Hair and makeup are done\n",
    "12:00 Coordinator arrives at the church and begins setup\n",
    "12:00 Ellen puts on dress (mom and bridesmaids dressed and ready)\n",
    "Photos of mom zipping up dress\n",
    "First look with bridesmaids\n",
    "12:30 Second photographer and Videographer #2  arrives at church\n",
    "12:45 Party bus picks up guys and takes them to the church\n",
    "12:50 Guys arrive at the church\n",
    "Ellen & Eric read their vow letters from each other (also bring copies of what they wrote to read for Videographer)\n",
    "Coordinator pins boutonnieres on the guys\n",
    "Hotel shuttle begins taking guests to the church\n",
    "1:00 Spot’s picks up bridesmaids from hotel\n",
    "1:15 Spot’s drops off bridesmaids at church\n",
    "Will go to the bridal room when they arrive\n",
    "1:30 Ceremony\n",
    "2:00 Access begins at The Hudson — coordinators, catering, and florist all arrive\n",
    "Coordinator and 2 assistants arrive to begin setup\n",
    "Linens will already be placed\n",
    "Begin folding napkins\n",
    "2:30 Ceremony ends\n",
    "Bubble send off from the church\n",
    "Marriage license is signed & family photos inside\n",
    "Hyatt shuttle comes back to take guests home\n",
    "Coordinator tears down decor at the church\n",
    "3:00 Everything must be out of the church\n",
    "E&E couple portraits outside\n",
    "3:15 Spot’s picks up bridal party to take them for photos\n",
    "4:30 Cocktail hour begins\n",
    "Coordinators play music from E&E’s playlist\n",
    "Hotel shuttle takes guests to The Hudson\n",
    "4:30 Bridal party takes party bus back to The Hudson and a friend of E&E brings Glacier\n",
    "4:45 Bridal party arrives at The Hudson, full bridal party photos for 5 minutes outside\n",
    "E&E take photos with Glacier, then a friend takes Glacier home\n",
    "Enter through the kitchen in the back to freshen up\n",
    "Coordinators make final touches on Gatsby hall\n",
    "Take bridesmaid bouquets as they enter and put into vases on reception tables (deconstruct them first—cut off wrap and remove any blooms that look sad)\n",
    "Coordinators ask guests to sign guestbook if needed\n",
    "5:00 E&E greet guests during cocktail hour\n",
    "DJ coverage begins\n",
    "Coordinators move geo blooms from cocktail tables onto dinner tables and light candles\n",
    "5:15 Doors to Gatsby Hall open & guests begin being seated\n",
    "5:30 Grand entrance\n",
    "Close doors before grand entrance\n",
    "Cake cutting right away\n",
    "Save top tier for E&E\n",
    "5:45 Dinner is served\n",
    "Couple, family, bridal party, and photo/video team go first through the line\n",
    "Coordinators cut and put out cake (save top tier of personal cake for E&E’s anniversary)\n",
    "E&E can greet more guests after they eat\n",
    "6:30 Toasts once the last table has gotten food\n",
    "6 people: 2 groomsmen, bridesmaid, maid of honor, both dads\n",
    "7:00 First dances after toasts, then open dancing!\n",
    "Coordinators cut and plate more cake as needed to keep table full\n",
    "7:15 First open dance with guests (need to choose song and let DJ know)\n",
    "7:20 Golden hour photos (sun sets 8:19 PM)\n",
    "7:35 E&E Return to dance floor\n",
    "8:15 Quick sparkler photos with parents and bridal party\n",
    "Coordinators help light sparklers\n",
    "8:30 Videography coverage ends, second photographer leaves\n",
    "10:50 Last dance with all the guests\n",
    "10:55 Private dance for just E&E \n",
    "Coordinators prepare guests for exit outside (stand in two lines and clap E&E out)\n",
    "11:00 Couple exits and guests leave\n",
    "DJ & photography coverage ends\n",
    "Food and cake go into Margaret’s car (and bridal bouquet?)\n",
    "Coordinators tear down and clean up\n",
    "Coordinators complete end of night checklist with The Hudson staff\n",
    "12:00 Hard out from venue\n",
    "Moore’s rentals go with Jessica to be returned on Monday (and maybe bridal bouquet?)\n",
    "'''\n"
   ]
  },
  {
   "cell_type": "code",
   "execution_count": 6,
   "metadata": {},
   "outputs": [
    {
     "data": {
      "text/plain": [
       "'<li>7:30 Hair arrives to set up</li><li>7:45 Makeup arrives to set up and hair begins</li>• 10 people each for hair and makeup<li>8:00 Makeup begins</li><li>11:00 Photographer arrives (no first look) & personal flowers are delivered to the hotel</li><li>11:30 Videographer #1 arrives at Hotel (where Ellen will be), Second Photographer & Videographer #2 arrives at Ellen and Eric’s house (where Eric will be) </li><li>11:45 Hair and makeup are done</li><li>12:00 Coordinator arrives at the church and begins setup</li><li>12:00 Ellen puts on dress (mom and bridesmaids dressed and ready)</li>• Photos of mom zipping up dress• First look with bridesmaids<li>12:30 Second photographer and Videographer #2  arrives at church</li><li>12:45 Party bus picks up guys and takes them to the church</li><li>12:50 Guys arrive at the church</li>• Ellen & Eric read their vow letters from each other (also bring copies of what they wrote to read for Videographer)• Coordinator pins boutonnieres on the guys• Hotel shuttle begins taking guests to the church<li>1:00 Spot’s picks up bridesmaids from hotel</li><li>1:15 Spot’s drops off bridesmaids at church</li>• Will go to the bridal room when they arrive<li>1:30 Ceremony</li><li>2:00 Access begins at The Hudson — coordinators, catering, and florist all arrive</li>• Coordinator and 2 assistants arrive to begin setup• Linens will already be placed• Begin folding napkins<li>2:30 Ceremony ends</li>• Bubble send off from the church• Marriage license is signed & family photos inside• Hyatt shuttle comes back to take guests home• Coordinator tears down decor at the church<li>3:00 Everything must be out of the church</li>• E&E couple portraits outside<li>3:15 Spot’s picks up bridal party to take them for photos</li><li>4:30 Cocktail hour begins</li>• Coordinators play music from E&E’s playlist• Hotel shuttle takes guests to The Hudson<li>4:30 Bridal party takes party bus back to The Hudson and a friend of E&E brings Glacier</li><li>4:45 Bridal party arrives at The Hudson, full bridal party photos for 5 minutes outside</li>• E&E take photos with Glacier, then a friend takes Glacier home• Enter through the kitchen in the back to freshen up• Coordinators make final touches on Gatsby hall• Take bridesmaid bouquets as they enter and put into vases on reception tables (deconstruct them first—cut off wrap and remove any blooms that look sad)• Coordinators ask guests to sign guestbook if needed<li>5:00 E&E greet guests during cocktail hour</li>• DJ coverage begins• Coordinators move geo blooms from cocktail tables onto dinner tables and light candles<li>5:15 Doors to Gatsby Hall open & guests begin being seated</li><li>5:30 Grand entrance</li>• Close doors before grand entrance• Cake cutting right away• Save top tier for E&E<li>5:45 Dinner is served</li>• Couple, family, bridal party, and photo/video team go first through the line• Coordinators cut and put out cake (save top tier of personal cake for E&E’s anniversary)• E&E can greet more guests after they eat<li>6:30 Toasts once the last table has gotten food</li>• 6 people: 2 groomsmen, bridesmaid, maid of honor, both dads<li>7:00 First dances after toasts, then open dancing!</li>• Coordinators cut and plate more cake as needed to keep table full<li>7:15 First open dance with guests (need to choose song and let DJ know)</li><li>7:20 Golden hour photos (sun sets 8:19 PM)</li><li>7:35 E&E Return to dance floor</li><li>8:15 Quick sparkler photos with parents and bridal party</li>• Coordinators help light sparklers<li>8:30 Videography coverage ends, second photographer leaves</li><li>10:50 Last dance with all the guests</li><li>10:55 Private dance for just E&E </li>• Coordinators prepare guests for exit outside (stand in two lines and clap E&E out)<li>11:00 Couple exits and guests leave</li>• DJ & photography coverage ends• Food and cake go into Margaret’s car (and bridal bouquet?)• Coordinators tear down and clean up• Coordinators complete end of night checklist with The Hudson staff<li>12:00 Hard out from venue</li>• Moore’s rentals go with Jessica to be returned on Monday (and maybe bridal bouquet?)'"
      ]
     },
     "execution_count": 6,
     "metadata": {},
     "output_type": "execute_result"
    }
   ],
   "source": [
    "html = \"\"\n",
    "for line in schedule.splitlines():\n",
    "    if line[1] == ':' or line[2] == ':':\n",
    "        html += f'<li>{line}</li>'\n",
    "    else:\n",
    "        html += f'• {line}'\n",
    "html"
   ]
  }
 ],
 "metadata": {
  "interpreter": {
   "hash": "63fd5069d213b44bf678585dea6b12cceca9941eaf7f819626cde1f2670de90d"
  },
  "kernelspec": {
   "display_name": "Python 3.9.6 64-bit (system)",
   "language": "python",
   "name": "python3"
  },
  "language_info": {
   "codemirror_mode": {
    "name": "ipython",
    "version": 3
   },
   "file_extension": ".py",
   "mimetype": "text/x-python",
   "name": "python",
   "nbconvert_exporter": "python",
   "pygments_lexer": "ipython3",
   "version": "3.9.6"
  },
  "orig_nbformat": 4
 },
 "nbformat": 4,
 "nbformat_minor": 2
}
